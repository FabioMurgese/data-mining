{
 "cells": [
  {
   "cell_type": "markdown",
   "metadata": {},
   "source": [
    "# MLP"
   ]
  },
  {
   "cell_type": "code",
   "execution_count": 1,
   "metadata": {},
   "outputs": [],
   "source": [
    "%matplotlib inline\n",
    "import datetime\n",
    "import numpy as np\n",
    "import pandas as pd\n",
    "from tqdm import tqdm\n",
    "import seaborn as sns\n",
    "from statistics import mean\n",
    "import matplotlib.pyplot as plt\n",
    "from sklearn.preprocessing import StandardScaler\n",
    "from sklearn.metrics import f1_score, precision_score, recall_score, confusion_matrix\n",
    "\n",
    "%load_ext tensorboard\n",
    "import tensorflow as tf\n",
    "from tensorflow import keras\n",
    "from tensorflow.keras.models import Sequential, model_from_json\n",
    "from tensorflow.keras.layers import Dense\n",
    "from tensorflow.keras.optimizers import Adam\n",
    "from tensorflow.keras.regularizers import l2\n",
    "from tensorflow.keras import layers\n",
    "%rm -rf ./logs/\n",
    "\n",
    "from sklearn.preprocessing import LabelEncoder\n",
    "from sklearn.model_selection import KFold, train_test_split\n",
    "\n",
    "img = 'plots/figure_{}.png'\n",
    "dataFolder = '../../data/{}'"
   ]
  },
  {
   "cell_type": "code",
   "execution_count": 2,
   "metadata": {},
   "outputs": [],
   "source": [
    "def load_dataset():\n",
    "    dataset = pd.read_csv(dataFolder.format('customer_behavior_labeled.csv'))\n",
    "    dataset = dataset.set_index('CustomerID')\n",
    "    return dataset\n",
    "\n",
    "def standardize(dataset):\n",
    "    scaler = StandardScaler()\n",
    "    customers = dataset.index\n",
    "    x_scaled = scaler.fit_transform(dataset)\n",
    "    dataset = pd.DataFrame(x_scaled, columns=dataset.columns, index=customers)\n",
    "    return dataset, scaler\n",
    "\n",
    "def create_model(n_hidden=10, input_dim=6, lr=0.01, lr_decay=0.9, lambd=1e-5, decay_steps=500):\n",
    "    lr_schedule = keras.optimizers.schedules.ExponentialDecay(\n",
    "        initial_learning_rate=lr,\n",
    "        decay_steps=decay_steps,\n",
    "        decay_rate=lr_decay)\n",
    "    opt = Adam(learning_rate=lr_schedule)\n",
    "    \n",
    "    model = Sequential()\n",
    "    model.add(Dense(n_hidden, input_dim=input_dim, activation='relu', kernel_regularizer=l2(lambd)))\n",
    "    model.add(Dense(n_hidden, activation='relu', kernel_regularizer=l2(lambd)))\n",
    "    model.add(Dense(3, activation='softmax'))\n",
    "    model.compile(loss='sparse_categorical_crossentropy', optimizer=opt, metrics=['accuracy'])\n",
    "    return model\n",
    "\n",
    "def get_grid_search(*args):\n",
    "    import itertools\n",
    "    grid = []\n",
    "    for e in itertools.product(*args):\n",
    "        grid.append({\n",
    "            'lr': e[0],\n",
    "            'lr_decay': e[1],\n",
    "            'epochs': e[2],\n",
    "            'batch_size': e[3],\n",
    "            'lambda': e[4],\n",
    "            'n_hidden': e[5]\n",
    "        })\n",
    "    return grid"
   ]
  },
  {
   "cell_type": "code",
   "execution_count": 3,
   "metadata": {},
   "outputs": [],
   "source": [
    "dataset = load_dataset()\n",
    "labels = dataset[['Customer Type']]\n",
    "del dataset['Customer Type']"
   ]
  },
  {
   "cell_type": "code",
   "execution_count": 4,
   "metadata": {},
   "outputs": [
    {
     "name": "stdout",
     "output_type": "stream",
     "text": [
      "Training set size = 2979, Blind Test set size = 745\n"
     ]
    }
   ],
   "source": [
    "X_train, X_test, y_train, y_test = train_test_split(dataset, labels, test_size=0.2, random_state=42)\n",
    "print(f\"Training set size = {len(X_train)}, Blind Test set size = {len(X_test)}\")"
   ]
  },
  {
   "cell_type": "code",
   "execution_count": 5,
   "metadata": {},
   "outputs": [
    {
     "name": "stderr",
     "output_type": "stream",
     "text": [
      "/home/gabriele/.local/lib/python3.8/site-packages/sklearn/utils/validation.py:72: DataConversionWarning: A column-vector y was passed when a 1d array was expected. Please change the shape of y to (n_samples, ), for example using ravel().\n",
      "  return f(**kwargs)\n",
      "/home/gabriele/.local/lib/python3.8/site-packages/sklearn/utils/validation.py:72: DataConversionWarning: A column-vector y was passed when a 1d array was expected. Please change the shape of y to (n_samples, ), for example using ravel().\n",
      "  return f(**kwargs)\n"
     ]
    }
   ],
   "source": [
    "label_encoder = LabelEncoder()\n",
    "label_encoder.fit(labels)\n",
    "y_train = np.array(label_encoder.transform(y_train))\n",
    "X_train, scaler = standardize(X_train)\n",
    "X_train = np.array(X_train)\n",
    "\n",
    "y_test = np.array(label_encoder.transform(y_test))\n",
    "X_test = np.array(scaler.transform(X_test))"
   ]
  },
  {
   "cell_type": "markdown",
   "metadata": {},
   "source": [
    "### Model Selection"
   ]
  },
  {
   "cell_type": "code",
   "execution_count": 6,
   "metadata": {},
   "outputs": [],
   "source": [
    "grid_search = get_grid_search(\n",
    "    [0.0001],  # lr\n",
    "    [0.9],  #lr decays\n",
    "    [1000],  # epochs\n",
    "    [25],  # batch sizes\n",
    "    [1e-7],  # lambdas\n",
    "    [15]  # hidden neurons\n",
    ")"
   ]
  },
  {
   "cell_type": "code",
   "execution_count": null,
   "metadata": {},
   "outputs": [],
   "source": [
    "histories = []\n",
    "\n",
    "with tqdm(total=len(grid_search)) as pbar:\n",
    "    for g in grid_search:\n",
    "        log_dir = \"logs/fit/\" + datetime.datetime.now().strftime(\"%Y%m%d%H%M%S\")\n",
    "        tensorboard_callback = tf.keras.callbacks.TensorBoard(log_dir=log_dir, histogram_freq=1)\n",
    "\n",
    "        lr = g['lr']\n",
    "        lr_decay = g['lr_decay']\n",
    "        epochs = g['epochs']\n",
    "        batch_size = g['batch_size']\n",
    "        lambd = g['lambda']\n",
    "        n_hidden = g['n_hidden']\n",
    "\n",
    "        X = X_train\n",
    "        y = y_train\n",
    "\n",
    "        input_dim = X.shape[1]\n",
    "        model = create_model(n_hidden, input_dim, lr, lr_decay, lambd, 10000)\n",
    "\n",
    "        history = model.fit(\n",
    "            X,\n",
    "            y,\n",
    "            batch_size=batch_size,\n",
    "            epochs=epochs,\n",
    "            validation_split=0.15,\n",
    "            shuffle=True,\n",
    "            verbose=0,\n",
    "            callbacks=[tensorboard_callback]\n",
    "        )\n",
    "        history.history['params'] = g\n",
    "        history.history['log_name'] = log_dir\n",
    "        histories.append(history)\n",
    "        \n",
    "        pbar.set_description(f\"{g}\")\n",
    "        pbar.update(1)"
   ]
  },
  {
   "cell_type": "code",
   "execution_count": null,
   "metadata": {},
   "outputs": [],
   "source": [
    "h_sorted = sorted(histories, key=lambda x: x.history['val_loss'][-1])\n",
    "[f\"{h.history['log_name']} | {h.history['params']} | val. accuracy={h.history['val_accuracy'][-1]} | val. loss={h.history['val_loss'][-1]}\" for h in h_sorted][:10]"
   ]
  },
  {
   "cell_type": "code",
   "execution_count": 9,
   "metadata": {},
   "outputs": [
    {
     "data": {
      "text/plain": [
       "Reusing TensorBoard on port 8088 (pid 33867), started 1:06:39 ago. (Use '!kill 33867' to kill it.)"
      ]
     },
     "metadata": {},
     "output_type": "display_data"
    },
    {
     "data": {
      "text/html": [
       "\n",
       "      <iframe id=\"tensorboard-frame-3c207ce3f6c71dd9\" width=\"100%\" height=\"800\" frameborder=\"0\">\n",
       "      </iframe>\n",
       "      <script>\n",
       "        (function() {\n",
       "          const frame = document.getElementById(\"tensorboard-frame-3c207ce3f6c71dd9\");\n",
       "          const url = new URL(\"/\", window.location);\n",
       "          const port = 8088;\n",
       "          if (port) {\n",
       "            url.port = port;\n",
       "          }\n",
       "          frame.src = url;\n",
       "        })();\n",
       "      </script>\n",
       "    "
      ],
      "text/plain": [
       "<IPython.core.display.HTML object>"
      ]
     },
     "metadata": {},
     "output_type": "display_data"
    }
   ],
   "source": [
    "%tensorboard --logdir logs/fit --host localhost --port 8088"
   ]
  },
  {
   "cell_type": "markdown",
   "metadata": {},
   "source": [
    "### Best Hyperparameters"
   ]
  },
  {
   "cell_type": "code",
   "execution_count": 18,
   "metadata": {},
   "outputs": [],
   "source": [
    "lr = 0.0001\n",
    "lr_decay = 0.9\n",
    "epochs = 1000\n",
    "batch_size = 25\n",
    "lambd = 1e-7\n",
    "n_hidden = 15\n",
    "\n",
    "input_dim = X.shape[1]\n",
    "decay_steps = 10000"
   ]
  },
  {
   "cell_type": "markdown",
   "metadata": {},
   "source": [
    "### Model Assessment"
   ]
  },
  {
   "cell_type": "code",
   "execution_count": 19,
   "metadata": {},
   "outputs": [],
   "source": [
    "model = create_model(n_hidden, input_dim, lr, lr_decay, lambd, decay_steps)"
   ]
  },
  {
   "cell_type": "code",
   "execution_count": null,
   "metadata": {},
   "outputs": [],
   "source": [
    "history = model.fit(X_train, y_train, batch_size=batch_size, epochs=epochs, shuffle=True, verbose=1)"
   ]
  },
  {
   "cell_type": "code",
   "execution_count": null,
   "metadata": {},
   "outputs": [],
   "source": [
    "scores = model.evaluate(X_train, y_train, verbose=0)\n",
    "print(\"%s: %.2f%%\" % (model.metrics_names[1], scores[1]*100))"
   ]
  },
  {
   "cell_type": "raw",
   "metadata": {},
   "source": [
    "\n",
    "model_json = model.to_json()\n",
    "with open(\"model.json\", \"w\") as json_file:\n",
    "    json_file.write(model_json)\n",
    "model.save_weights(\"model.h5\")"
   ]
  },
  {
   "cell_type": "markdown",
   "metadata": {},
   "source": [
    "### Model Evaluation"
   ]
  },
  {
   "cell_type": "code",
   "execution_count": 22,
   "metadata": {},
   "outputs": [],
   "source": [
    "\"\"\"json_file = open('model.json', 'r')\n",
    "loaded_model_json = json_file.read()\n",
    "json_file.close()\n",
    "\n",
    "model = model_from_json(loaded_model_json)\n",
    "model.load_weights(\"model.h5\")\n",
    "\n",
    "model.compile(loss='sparse_categorical_crossentropy', optimizer='adam', metrics=['accuracy'])\"\"\"\n",
    "y_train_pred = np.argmax(model.predict(X_train), axis=1)"
   ]
  },
  {
   "cell_type": "code",
   "execution_count": 23,
   "metadata": {},
   "outputs": [
    {
     "name": "stdout",
     "output_type": "stream",
     "text": [
      "F1: 0.964\n",
      "Precision: 0.968\n",
      "Recall: 0.961\n"
     ]
    }
   ],
   "source": [
    "print(\"F1: {:.3f}\".format(f1_score(y_train, y_train_pred, average='macro')))\n",
    "print(\"Precision: {:.3f}\".format(precision_score(y_train, y_train_pred, average='macro')))\n",
    "print(\"Recall: {:.3f}\".format(recall_score(y_train, y_train_pred, average='macro')))"
   ]
  },
  {
   "cell_type": "code",
   "execution_count": 24,
   "metadata": {},
   "outputs": [
    {
     "name": "stdout",
     "output_type": "stream",
     "text": [
      "accuracy: 97.05%\n"
     ]
    }
   ],
   "source": [
    "scores = model.evaluate(X_test, y_test, verbose=0)\n",
    "print(\"%s: %.2f%%\" % (model.metrics_names[1], scores[1]*100))\n",
    "y_pred = np.argmax(model.predict(X_test), axis=1)"
   ]
  },
  {
   "cell_type": "code",
   "execution_count": 25,
   "metadata": {},
   "outputs": [
    {
     "name": "stdout",
     "output_type": "stream",
     "text": [
      "F1: 0.967\n",
      "Precision: 0.967\n",
      "Recall: 0.967\n"
     ]
    }
   ],
   "source": [
    "print(\"F1: {:.3f}\".format(f1_score(y_test, y_pred, average='macro')))\n",
    "print(\"Precision: {:.3f}\".format(precision_score(y_test, y_pred, average='macro')))\n",
    "print(\"Recall: {:.3f}\".format(recall_score(y_test, y_pred, average='macro')))"
   ]
  },
  {
   "cell_type": "code",
   "execution_count": 28,
   "metadata": {},
   "outputs": [
    {
     "data": {
      "image/png": "[encoded data removed]",
      "text/plain": [
       "<Figure size 504x432 with 2 Axes>"
      ]
     },
     "metadata": {
      "needs_background": "light"
     },
     "output_type": "display_data"
    }
   ],
   "source": [
    "labels = ['medium-spending', 'low-spending', 'high-spending']\n",
    "cm = confusion_matrix(y_test, y_pred, normalize='true')\n",
    "plt.figure(figsize=(7,6))\n",
    "ax = plt.subplot()\n",
    "sns.heatmap(cm, annot=True, ax=ax)\n",
    "ax.set_xlabel('Predicted labels')\n",
    "ax.set_ylabel('True labels')\n",
    "ax.set_title('Confusion Matrix of MLP')\n",
    "ax.xaxis.set_ticklabels(['low-spending', 'medium-spending', 'high-spending'], va='center')\n",
    "ax.yaxis.set_ticklabels(['low-spending', 'medium-spending', 'high-spending'], va='center')\n",
    "fig = plt.gcf()\n",
    "plt.savefig('plots/mlp-confusionmatrix_without_std.png')\n"
   ]
  },
  {
   "cell_type": "code",
   "execution_count": null,
   "metadata": {},
   "outputs": [],
   "source": []
  }
 ],
 "metadata": {
  "kernelspec": {
   "display_name": "Python 3",
   "language": "python",
   "name": "python3"
  },
  "language_info": {
   "codemirror_mode": {
    "name": "ipython",
    "version": 3
   },
   "file_extension": ".py",
   "mimetype": "text/x-python",
   "name": "python",
   "nbconvert_exporter": "python",
   "pygments_lexer": "ipython3",
   "version": "3.8.5"
  }
 },
 "nbformat": 4,
 "nbformat_minor": 4
}
